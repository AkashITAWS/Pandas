{
 "cells": [
  {
   "cell_type": "markdown",
   "id": "9ebea220",
   "metadata": {},
   "source": [
    "# PANDAS STUDY BY CHETAN SIR"
   ]
  },
  {
   "cell_type": "code",
   "execution_count": 1,
   "id": "abfbc782",
   "metadata": {},
   "outputs": [],
   "source": [
    "# by akash"
   ]
  },
  {
   "cell_type": "code",
   "execution_count": 1,
   "id": "209eb08e",
   "metadata": {},
   "outputs": [],
   "source": [
    "import pandas as pd"
   ]
  },
  {
   "cell_type": "code",
   "execution_count": 23,
   "id": "963fc03a",
   "metadata": {},
   "outputs": [],
   "source": [
    "cars_per_cap = [720,850,85,900,75]\n",
    "country =['INDIA','Indonesia', 'Bangladesh', 'Japan', 'SRILANKA']\n",
    "Drives_right = [True, False,True, False,True]"
   ]
  },
  {
   "cell_type": "code",
   "execution_count": 24,
   "id": "61cdc7e3",
   "metadata": {},
   "outputs": [],
   "source": [
    "Data = {\"cars_per_cap\": cars_per_cap, \"country\": country, \"Drives_right\": Drives_right}"
   ]
  },
  {
   "cell_type": "code",
   "execution_count": 25,
   "id": "4069589a",
   "metadata": {},
   "outputs": [
    {
     "data": {
      "text/plain": [
       "{'cars_per_cap': [720, 850, 85, 900, 75],\n",
       " 'country': ['INDIA', 'Indonesia', 'Bangladesh', 'Japan', 'SRILANKA'],\n",
       " 'Drives_right': [True, False, True, False, True]}"
      ]
     },
     "execution_count": 25,
     "metadata": {},
     "output_type": "execute_result"
    }
   ],
   "source": [
    "Data"
   ]
  },
  {
   "cell_type": "code",
   "execution_count": 26,
   "id": "9f69fcce",
   "metadata": {},
   "outputs": [],
   "source": [
    "cars = pd.DataFrame(Data)"
   ]
  },
  {
   "cell_type": "code",
   "execution_count": 27,
   "id": "26f04c46",
   "metadata": {},
   "outputs": [
    {
     "data": {
      "text/html": [
       "<div>\n",
       "<style scoped>\n",
       "    .dataframe tbody tr th:only-of-type {\n",
       "        vertical-align: middle;\n",
       "    }\n",
       "\n",
       "    .dataframe tbody tr th {\n",
       "        vertical-align: top;\n",
       "    }\n",
       "\n",
       "    .dataframe thead th {\n",
       "        text-align: right;\n",
       "    }\n",
       "</style>\n",
       "<table border=\"1\" class=\"dataframe\">\n",
       "  <thead>\n",
       "    <tr style=\"text-align: right;\">\n",
       "      <th></th>\n",
       "      <th>cars_per_cap</th>\n",
       "      <th>country</th>\n",
       "      <th>Drives_right</th>\n",
       "    </tr>\n",
       "  </thead>\n",
       "  <tbody>\n",
       "    <tr>\n",
       "      <th>0</th>\n",
       "      <td>720</td>\n",
       "      <td>INDIA</td>\n",
       "      <td>True</td>\n",
       "    </tr>\n",
       "    <tr>\n",
       "      <th>1</th>\n",
       "      <td>850</td>\n",
       "      <td>Indonesia</td>\n",
       "      <td>False</td>\n",
       "    </tr>\n",
       "    <tr>\n",
       "      <th>2</th>\n",
       "      <td>85</td>\n",
       "      <td>Bangladesh</td>\n",
       "      <td>True</td>\n",
       "    </tr>\n",
       "    <tr>\n",
       "      <th>3</th>\n",
       "      <td>900</td>\n",
       "      <td>Japan</td>\n",
       "      <td>False</td>\n",
       "    </tr>\n",
       "    <tr>\n",
       "      <th>4</th>\n",
       "      <td>75</td>\n",
       "      <td>SRILANKA</td>\n",
       "      <td>True</td>\n",
       "    </tr>\n",
       "  </tbody>\n",
       "</table>\n",
       "</div>"
      ],
      "text/plain": [
       "   cars_per_cap     country  Drives_right\n",
       "0           720       INDIA          True\n",
       "1           850   Indonesia         False\n",
       "2            85  Bangladesh          True\n",
       "3           900       Japan         False\n",
       "4            75    SRILANKA          True"
      ]
     },
     "execution_count": 27,
     "metadata": {},
     "output_type": "execute_result"
    }
   ],
   "source": [
    "cars"
   ]
  },
  {
   "cell_type": "code",
   "execution_count": null,
   "id": "1d8d4568",
   "metadata": {},
   "outputs": [],
   "source": []
  }
 ],
 "metadata": {
  "kernelspec": {
   "display_name": "Python 3 (ipykernel)",
   "language": "python",
   "name": "python3"
  },
  "language_info": {
   "codemirror_mode": {
    "name": "ipython",
    "version": 3
   },
   "file_extension": ".py",
   "mimetype": "text/x-python",
   "name": "python",
   "nbconvert_exporter": "python",
   "pygments_lexer": "ipython3",
   "version": "3.11.7"
  }
 },
 "nbformat": 4,
 "nbformat_minor": 5
}
